{
  "nbformat": 4,
  "nbformat_minor": 0,
  "metadata": {
    "colab": {
      "name": "Data Description.ipynb",
      "provenance": [],
      "authorship_tag": "ABX9TyNVPjm0G+s0IFp4qidr2Ccg",
      "include_colab_link": true
    },
    "kernelspec": {
      "name": "python3",
      "display_name": "Python 3"
    }
  },
  "cells": [
    {
      "cell_type": "markdown",
      "metadata": {
        "id": "view-in-github",
        "colab_type": "text"
      },
      "source": [
        "<a href=\"https://colab.research.google.com/github/anushka012399/Battle_Of_Neighborhood/blob/master/Data_Description.ipynb\" target=\"_parent\"><img src=\"https://colab.research.google.com/assets/colab-badge.svg\" alt=\"Open In Colab\"/></a>"
      ]
    },
    {
      "cell_type": "markdown",
      "metadata": {
        "id": "A5_cSrvAWZE_",
        "colab_type": "text"
      },
      "source": [
        "# **A Recommender System for expats looking for a family friendly neighbourhood in Downtown Toronto.**"
      ]
    },
    {
      "cell_type": "markdown",
      "metadata": {
        "id": "QSt8NwgiWZKA",
        "colab_type": "text"
      },
      "source": [
        "For this project, we will be needing three datasets:\n",
        "\n",
        "\n",
        "1.   Dataset that contains a list of all neighbourhoods, their boroughs and postal code of Canada.\n",
        "2.   Geospatial data that contains geo-locational information (latitudes and longitudes) about different boruoghs and their neighbouhoods.\n",
        "3.   Data obtained using 'Foursquare' to get details about different venues present in the neighbouhood of the specific borough (Downtown-in this project)\n",
        "\n"
      ]
    },
    {
      "cell_type": "markdown",
      "metadata": {
        "id": "4ElSlqY5Y68G",
        "colab_type": "text"
      },
      "source": [
        "### **Dataset 1: containing a list of boruoghs of Canada**"
      ]
    },
    {
      "cell_type": "markdown",
      "metadata": {
        "id": "7PRl-DDcY7Hv",
        "colab_type": "text"
      },
      "source": [
        "This data will be scrapped from a wikipedia page (https://en.wikipedia.org/wiki/List_of_postal_codes_of_Canada:_M) using BeautifulSoup.\n",
        "Beautiful Soup is a package in Python which is used to extract text and numbers off of HTML and XML files, which are the more prevalent type of files in the internet. \n",
        "This dataset will contain columns:\n",
        "\n",
        "\n",
        "*   Postal Code\n",
        "*   Borough\n",
        "*   Neighbourhood\n",
        "\n",
        "This dataset is mainly used to identify all the neigbouhoods and their respective boruoghs of Canada. Postal Code will be used as an identifier key to merge this dataset with their geo-locational information."
      ]
    },
    {
      "cell_type": "markdown",
      "metadata": {
        "id": "Xo1XMNUbbURN",
        "colab_type": "text"
      },
      "source": [
        "### **Dataset 2: containing latitudes and longitudes corresponding to different postal codes**"
      ]
    },
    {
      "cell_type": "markdown",
      "metadata": {
        "id": "aR6qKq2EbUVz",
        "colab_type": "text"
      },
      "source": [
        "This dataset is obtained from https://http://cocl.us/Geospatial_data. This dataset contains the following columns:\n",
        "\n",
        "\n",
        "*   Postal Code\n",
        "*   Latitude\n",
        "*   Longitude\n",
        "\n",
        "Now, this is merged with the first dataset to form a complete dataset, from which we can retirve the neighbourhoods of the particular borough the expat wants to live in. In this project, we have used Downotown Toronto as the desired borough.\n",
        "\n",
        "\n"
      ]
    },
    {
      "cell_type": "markdown",
      "metadata": {
        "id": "jM9FWZSBbUbk",
        "colab_type": "text"
      },
      "source": [
        "### **Dataset 3: obtained using Foursquare**"
      ]
    },
    {
      "cell_type": "markdown",
      "metadata": {
        "id": "gSy6-2rqbUts",
        "colab_type": "text"
      },
      "source": [
        "To proceed with the project, we need information and details about all the venues present in the neighbourhood of our required borough, which is Downtown Toronto. For this purpose, we will use the locational information provided by Foursquare (https://foursquare.com), a local search-and-discovery service application.\n",
        "\n",
        "We need two types of information from foursquare:\n",
        "\n",
        "\n",
        "1.   **Basic**: latitude, longitude of the venue to correctly identify the neighbourhood\n",
        "2.   **Advance**: Category in which the venue falls ( for ex: Grocery Store, Park, Theatre etc.)\n",
        "\n",
        "We will use the 'explore' endpoint in foursquare to obtain a list of all the venues near to the location(latitude, longitude) of downtown toronto.\n",
        "\n",
        "The data retrived contains the following information:\n",
        "\n",
        "\n",
        "*   Postal Code\n",
        "*   Neighbourhood\n",
        "*   Neighbourhood latitude\n",
        "*   Neighbourhood longitude\n",
        "*   Venue\n",
        "*   Venue Summary\n",
        "*   Venue Category\n",
        "*   Distance\n",
        "\n",
        "The dataset was found to contain 203 unique categories. These categories were filtered out to be those desired in a family-friendly neighbourhood, and k-means clustering was performed to find the best set of neighbourhoods to live in.\n",
        "\n",
        "\n",
        "\n",
        "\n"
      ]
    }
  ]
}