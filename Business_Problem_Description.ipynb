{
  "nbformat": 4,
  "nbformat_minor": 0,
  "metadata": {
    "colab": {
      "name": "Business Problem Description.ipynb",
      "provenance": [],
      "authorship_tag": "ABX9TyOHMuYLw530wFUpNhyWw6r0",
      "include_colab_link": true
    },
    "kernelspec": {
      "name": "python3",
      "display_name": "Python 3"
    }
  },
  "cells": [
    {
      "cell_type": "markdown",
      "metadata": {
        "id": "view-in-github",
        "colab_type": "text"
      },
      "source": [
        "<a href=\"https://colab.research.google.com/github/anushka012399/Battle_Of_Neighborhood/blob/master/Business_Problem_Description.ipynb\" target=\"_parent\"><img src=\"https://colab.research.google.com/assets/colab-badge.svg\" alt=\"Open In Colab\"/></a>"
      ]
    },
    {
      "cell_type": "markdown",
      "metadata": {
        "id": "78MHD1StSxMF",
        "colab_type": "text"
      },
      "source": [
        "# **A Recommender System for expats looking for a family friendly neighbourhood in Downtown Toronto.**\n",
        "\n",
        "\n"
      ]
    },
    {
      "cell_type": "markdown",
      "metadata": {
        "id": "cmDRFhMMP_x3",
        "colab_type": "text"
      },
      "source": [
        "## **Background knowledge**"
      ]
    },
    {
      "cell_type": "markdown",
      "metadata": {
        "id": "-e5d9OrH5oH6",
        "colab_type": "text"
      },
      "source": [
        "According to The Economist, Toronto is placed in the world's top ten \"most liveable cities\". This is one of the reasons why Toronto is full of non-Canadians(expats). Toronto is known to have build a knowledge-based economy by hiring skilled professionals from overseas. This has also led to an extremely diverse population combined with the multi-culturalism that stems from Toronto's location. According to the census of 2016, around 46.1% of residents in Toronto were born outside Canada. \n",
        "\n",
        "\n",
        "\n"
      ]
    },
    {
      "cell_type": "markdown",
      "metadata": {
        "id": "uDJfT2eaIXoq",
        "colab_type": "text"
      },
      "source": [
        "## **Business Problem**"
      ]
    },
    {
      "cell_type": "markdown",
      "metadata": {
        "id": "4DHqqp6iJ_6U",
        "colab_type": "text"
      },
      "source": [
        "Since Toronto is full of expats, it is implied that many families shift to Toronto every year and seek for a family-friendly neighbourhood to live in. \n",
        "\n",
        "Family-friendly neighbourhoods are characterized by: \n",
        "\n",
        "1.   good entertainment venues nearby (theatres, spa, malls, bookstores etc.)\n",
        "2.   close to daily amenities(grocery store, gym, parlour, bank etc.)\n",
        "3.   having a good transport network (bus station, metro, airport etc.)\n",
        "4.   amenities for children (school, park, foodcourts, university etc.)\n",
        "5.   far from nightlife places (bars, pubs etc.)\n",
        "\n",
        "There is an agent in the downtown borough of Toronto that helps expats find family-friendly neighbourhoods using this recommender system. This system finds neighbourhoods that have the maximum number of family friendly venues. \n",
        "\n",
        "Features(or categories) that an expat requiers in their neighbourhood can be filtered out and customized as per the needs.\n",
        "\n"
      ]
    },
    {
      "cell_type": "markdown",
      "metadata": {
        "id": "iPa3LvCzNVID",
        "colab_type": "text"
      },
      "source": [
        "## **Aim**"
      ]
    },
    {
      "cell_type": "markdown",
      "metadata": {
        "id": "rzP1y8UFNyws",
        "colab_type": "text"
      },
      "source": [
        "To find the best family-friendly neighbourhood in Downtown Toronto."
      ]
    },
    {
      "cell_type": "markdown",
      "metadata": {
        "id": "z_yacQyANy3P",
        "colab_type": "text"
      },
      "source": [
        "## **Target Audience**"
      ]
    },
    {
      "cell_type": "markdown",
      "metadata": {
        "id": "rd2R6QGNNy8-",
        "colab_type": "text"
      },
      "source": [
        "Expats moving to Downtown Toronto."
      ]
    },
    {
      "cell_type": "code",
      "metadata": {
        "id": "igASRxHtbeOg",
        "colab_type": "code",
        "colab": {}
      },
      "source": [
        ""
      ],
      "execution_count": null,
      "outputs": []
    }
  ]
}